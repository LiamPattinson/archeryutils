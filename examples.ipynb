{
 "cells": [
  {
   "cell_type": "markdown",
   "id": "2c6b63a3",
   "metadata": {},
   "source": [
    "# Examples\n",
    "\n",
    "This jupyter notebook contains examples of running the various functions available in _archeryutils_.\n",
    "Where different options exist for the examples they are listed. Users are encouraged to re-run various cells of this notebook with different options to explore the full functionality of the code.\n",
    "\n",
    "## 0. Getting set up\n",
    "\n",
    "To start off using archeryutils we need to import it.\n",
    "Assuming it has been installed into the local environment according to the repository documentation this can be done as follows:"
   ]
  },
  {
   "cell_type": "code",
   "execution_count": 27,
   "id": "785be58b",
   "metadata": {
    "scrolled": true
   },
   "outputs": [],
   "source": [
    "import archeryutils as au"
   ]
  },
  {
   "cell_type": "markdown",
   "id": "2dfde093",
   "metadata": {},
   "source": [
    "## 1. Basic Building Blocks\n",
    "The basic building blocks of the archeryutils package are the `targets.Target` and the `rounds.Round` class.\n",
    "\n",
    "### Target\n",
    "\n",
    "A target is defined with the following attributes:\n",
    "- Face diameter [m]\n",
    "- Scoring system\n",
    "- Distance [default m]\n",
    "\n",
    "The following scoring systems are possible:\n",
    "- `\"5_zone\"`,\n",
    "- `\"10_zone\"`,\n",
    "- `\"10_zone_compound\"`,\n",
    "- `\"10_zone_6_ring\"`,\n",
    "- `\"10_zone_5_ring\"`,\n",
    "- `\"10_zone_5_ring_compound\"`,\n",
    "- `\"WA_field\"`,\n",
    "- `\"IFAA_field\"`,\n",
    "- `\"IFAA_field_expert\"`,\n",
    "- `\"Beiter_hit_miss\"`,\n",
    "- `\"Worcester\"`,\n",
    "- `\"Worcester_2_ring\"`\n",
    "\n",
    "where an `\"_n_ring\"` suffix indicates a reduced scoring area with only the central n rings, and the `\"_compound\"` suffix indicates the system where only the x-ring scores 10 points.\n",
    "\n",
    "So we could define the target shot on the WA 720 70m round as:"
   ]
  },
  {
   "cell_type": "code",
   "execution_count": 28,
   "id": "061d6aee",
   "metadata": {},
   "outputs": [],
   "source": [
    "my720target = au.targets.Target(1.22, \"10_zone\", 70.0)"
   ]
  },
  {
   "cell_type": "markdown",
   "id": "5e0711be",
   "metadata": {},
   "source": [
    "and the corresponding target shot by compounds (reduced 80cm face at 50m) as:"
   ]
  },
  {
   "cell_type": "code",
   "execution_count": 29,
   "id": "473c3b7d",
   "metadata": {},
   "outputs": [],
   "source": [
    "mycompound720target = au.targets.Target(0.80, \"10_zone_6_ring\", 50.0)"
   ]
  },
  {
   "cell_type": "markdown",
   "id": "1125e7c9",
   "metadata": {},
   "source": [
    "The target object can also take the optional arguments of:\n",
    "- `native_dist_unit` - string - default = `\"metres\"`\n",
    "- `indoor` - boolean - default = `False`\n",
    "\n",
    "to provide an imperial distance in yards and indicate if the round is to be shot indoors (where rules may be different).\n",
    "\n",
    "For example, the longest target on an IFAA field rounds could be defined as follows:"
   ]
  },
  {
   "cell_type": "code",
   "execution_count": 30,
   "id": "d72fc06d",
   "metadata": {},
   "outputs": [],
   "source": [
    "myIFAATarget = au.targets.Target(0.80, \"IFAA_field\", 80.0, native_dist_unit=\"yards\")"
   ]
  },
  {
   "cell_type": "markdown",
   "id": "aacd8075",
   "metadata": {},
   "source": [
    "and the target shot for the Archery GB Postsmouth round as:"
   ]
  },
  {
   "cell_type": "code",
   "execution_count": 31,
   "id": "63979a1f",
   "metadata": {},
   "outputs": [],
   "source": [
    "myPortsmouthTarget = au.targets.Target(\n",
    "    0.60, \"10_zone\", 20.0, native_dist_unit=\"yards\", indoor=True\n",
    ")"
   ]
  },
  {
   "cell_type": "markdown",
   "id": "c46e1fda",
   "metadata": {},
   "source": [
    "Target objects have the ability to return the maximum possible score from the type of face specified through the `max_score` method:"
   ]
  },
  {
   "cell_type": "code",
   "execution_count": 32,
   "id": "c1fd3bbc",
   "metadata": {},
   "outputs": [
    {
     "name": "stdout",
     "output_type": "stream",
     "text": [
      "10.0\n",
      "10.0\n",
      "5.0\n",
      "10.0\n"
     ]
    }
   ],
   "source": [
    "for target in [my720target, mycompound720target, myIFAATarget, myPortsmouthTarget]:\n",
    "    print(target.max_score())"
   ]
  },
  {
   "cell_type": "markdown",
   "id": "fcbcd67d",
   "metadata": {},
   "source": [
    "### Pass\n",
    "The natural extension to the `targets.Target` class is to shoot a number of arrows at it.\n",
    "in _archeryutils_ this is called a \"pass\" and is defined using the `rounds.Pass` class which wraps around the `targets.Target` class.\n",
    "\n",
    "This takes a number of arrows followed by all of the arguments to target defined above.\n",
    "\n",
    "For example, to define the 36 arrow pass that forms the first distance on a WA 1440 70m round, or the first half of the WA 720 70m round we use:"
   ]
  },
  {
   "cell_type": "code",
   "execution_count": 33,
   "id": "a877c384",
   "metadata": {},
   "outputs": [],
   "source": [
    "my70mPass = au.rounds.Pass(36, 1.22, \"10_zone\", 70.0)"
   ]
  },
  {
   "cell_type": "markdown",
   "id": "37b3d5a3",
   "metadata": {},
   "source": [
    "Like the `targets.Target` class a `rounds.Pass` also has a `max_score()` method, but this now returns the maximum possible score for the pass (`n_arrows * Target.max_score()`):"
   ]
  },
  {
   "cell_type": "code",
   "execution_count": 34,
   "id": "dc431f7a",
   "metadata": {
    "scrolled": true
   },
   "outputs": [
    {
     "name": "stdout",
     "output_type": "stream",
     "text": [
      "360.0\n"
     ]
    }
   ],
   "source": [
    "print(my70mPass.max_score())"
   ]
  },
  {
   "cell_type": "markdown",
   "id": "31c781a2",
   "metadata": {},
   "source": [
    "### Round\n",
    "In reality we rarely use the `targets.Target` or `rounds.Pass` objects by themselves, however, instead preferring to use the `rounds.Round` class. This defines multiple passes to form what is commonly known as a round.\n",
    "\n",
    "A `rounds.Round` object is defined with a string `name` to provide a popular name for the round and a list of `rounds.Pass` objects.\n",
    "\n",
    "It may also take the following optional string arguments:\n",
    "- `location` - where the round is shot, e.g. 'Indoor', 'Outdoor', 'Field' etc.\n",
    "- `body` - The governing body the round is defined by, e.g. 'WA', 'IFAA', 'AGB', 'AA' etc.\n",
    "- `family` - The larger family of rounds to which this round belongs, e.g. 'wa_1440', 'wa_720', 'national' etc.\n",
    "\n",
    "So to define a WA 720 70m round we can re-use our variable `my70mPass` from above as follows:"
   ]
  },
  {
   "cell_type": "code",
   "execution_count": 35,
   "id": "56587b23",
   "metadata": {},
   "outputs": [],
   "source": [
    "my720Round = au.rounds.Round(\n",
    "    \"WA 720 (70m)\",\n",
    "    [my70mPass, my70mPass],\n",
    "    location=\"Outdoor Target\",\n",
    "    body=\"WA\",\n",
    "    family=\"WA720\",\n",
    ")"
   ]
  },
  {
   "cell_type": "markdown",
   "id": "7b9db58b",
   "metadata": {},
   "source": [
    "Again we have a method for maximum score:"
   ]
  },
  {
   "cell_type": "code",
   "execution_count": 36,
   "id": "43894dd3",
   "metadata": {},
   "outputs": [
    {
     "name": "stdout",
     "output_type": "stream",
     "text": [
      "720.0\n"
     ]
    }
   ],
   "source": [
    "print(my720Round.max_score())"
   ]
  },
  {
   "cell_type": "markdown",
   "id": "9d1e43bf",
   "metadata": {},
   "source": [
    "### Default Rounds\n",
    "\n",
    "A number of useful rounds are pre-defined and come preloaded as dictionaries that can be imported:"
   ]
  },
  {
   "cell_type": "code",
   "execution_count": 37,
   "id": "3e5974f9",
   "metadata": {},
   "outputs": [
    {
     "name": "stdout",
     "output_type": "stream",
     "text": [
      "York\n",
      "Hereford\n",
      "Bristol I\n",
      "Bristol II\n",
      "Bristol III\n",
      "Bristol IV\n",
      "Bristol V\n",
      "St. George\n",
      "Albion\n",
      "Windsor\n",
      "Windsor 50\n",
      "Windsor 40\n",
      "Windsor 30\n",
      "New Western\n",
      "Long Western\n",
      "Western\n",
      "Western 50\n",
      "Western 40\n",
      "Western 30\n",
      "American\n",
      "St Nicholas\n",
      "New National\n",
      "Long National\n",
      "National\n",
      "National 50\n",
      "National 40\n",
      "National 30\n",
      "New Warwick\n",
      "Long Warwick\n",
      "Warwick\n",
      "Warwick 50\n",
      "Warwick 40\n",
      "Warwick 30\n"
     ]
    }
   ],
   "source": [
    "from archeryutils import load_rounds\n",
    "\n",
    "agb_outdoor = load_rounds.AGB_outdoor_imperial\n",
    "\n",
    "for round_i in agb_outdoor.values():\n",
    "    print(round_i.name)"
   ]
  },
  {
   "cell_type": "markdown",
   "id": "941fdddc",
   "metadata": {},
   "source": [
    "The individial rounds are accessible via 'dot' notation (using the alias listed in `agb_outdoor.keys()`) as follows:"
   ]
  },
  {
   "cell_type": "code",
   "execution_count": 38,
   "id": "cb287016",
   "metadata": {},
   "outputs": [
    {
     "name": "stdout",
     "output_type": "stream",
     "text": [
      "A York consists of 3 passes:\n",
      "\t- 72 arrows at a 122.0 cm target at 100.0 yards.\n",
      "\t- 48 arrows at a 122.0 cm target at 80.0 yards.\n",
      "\t- 24 arrows at a 122.0 cm target at 60.0 yards.\n"
     ]
    },
    {
     "data": {
      "text/plain": [
       "1296.0"
      ]
     },
     "execution_count": 38,
     "metadata": {},
     "output_type": "execute_result"
    }
   ],
   "source": [
    "agb_outdoor.york.get_info()\n",
    "\n",
    "agb_outdoor.york.max_score()"
   ]
  },
  {
   "cell_type": "markdown",
   "id": "fc1e0c97",
   "metadata": {},
   "source": [
    "Possible options for round collections are:\n",
    "- `AGB_outdoor_imperial` - Archery GB outdoor imperial rounds\n",
    "- `AGB_outdoor_metric` - Archery GB outdoor metric rounds\n",
    "- `AGB_indoor` - Archery GB indoor rounds\n",
    "- `WA_outdoor` - World Archery outdoor rounds\n",
    "- `WA_indoor` - World Archery indoor rounds\n",
    "- `WA_field` - World Archery field rounds\n",
    "- `IFAA_field` - IFAA indoor and outdoor rounds\n",
    "- `AGB_VI` - Archery GB Visually Impaired rounds\n",
    "- `WA_VI` - World Archery Visually Impaired rounds\n",
    "- `custom` - custom rounds such as individual distances, 252 awards, frostbites etc."
   ]
  },
  {
   "cell_type": "markdown",
   "id": "39d6d6a3",
   "metadata": {},
   "source": [
    "## 2. Handicap Schemes\n",
    "_archeryutils_ provides functionality for calculating various [handicaps/skill ratings](https://jackatkinson.net/post/archery_handicap/) from scores. These include both the popular Archery GB and Archery Australia schemes.\n",
    "\n",
    "To use these functionalities import the handicap equations and functions modules as below.\n",
    "\n",
    "It will also help to instantiate a `HcParams` object that contains key parameters for the handicap schemes.\n",
    "This comes as a preloaded dataclass, though the values of the variables can be changed or loaded from a `.json` file. For an explanation of the different values consult the [class definition in `archeryutils/handicaps/handicap_equations.py`](https://github.com/jatkinson1000/archeryutils/blob/main/archeryutils/handicaps/handicap_equations.py)."
   ]
  },
  {
   "cell_type": "code",
   "execution_count": 39,
   "id": "de89712b",
   "metadata": {},
   "outputs": [
    {
     "name": "stdout",
     "output_type": "stream",
     "text": [
      "HcParams(AGB_datum=6.0, AGB_step=3.5, AGB_ang_0=0.0005, AGB_kd=0.00365, AGBo_datum=12.9, AGBo_step=3.6, AGBo_ang_0=0.0005, AGBo_k1=1.429e-06, AGBo_k2=1.07, AGBo_k3=4.3, AGBo_p1=2.0, AGBo_arw_d=0.00714, AA_k0=2.37, AA_ks=0.027, AA_kd=0.004, AA2_k0=2.57, AA2_ks=0.027, AA2_f1=0.815, AA2_f2=0.185, AA2_d0=50.0, AA_arw_d_out=0.005, arw_d_in=0.0093, arw_d_out=0.0055)\n"
     ]
    }
   ],
   "source": [
    "from archeryutils import handicap_equations as hc_eq\n",
    "from archeryutils import handicap_functions as hc_func\n",
    "\n",
    "hcparams = hc_eq.HcParams()\n",
    "print(hcparams)"
   ]
  },
  {
   "cell_type": "markdown",
   "id": "0ab115fe",
   "metadata": {},
   "source": [
    "### Score from handicap\n",
    "\n",
    "It is then possible to use the `score_for_round` function to calculate score on any `rounds.Round` for a given handicap/skill rating.\n",
    "\n",
    "This requires a round, handicap/skill rating, scheme, and set of handicap parameters.\n",
    "\n",
    "Possible options for the scheme are:\n",
    "- `\"AGB\"` - The 2023 Archery GB handicap system developed by Jack Atkinson\n",
    "- `\"AGBold\"` - The old Archery GB handicap system developed by David Lane\n",
    "- `\"AA2\"` - The 2014 Archery Australia Skill rating system developed by Jim Park\n",
    "- `\"AA\"` - The old Archery Australia skill rating system developed by Jim Park\n",
    "\n",
    "For example, to calculate the score on a York round for a handicap of 38 using the 2023 Archery GB scheme we run:"
   ]
  },
  {
   "cell_type": "code",
   "execution_count": 40,
   "id": "c627dccc",
   "metadata": {},
   "outputs": [
    {
     "name": "stdout",
     "output_type": "stream",
     "text": [
      "A handicap of 38 on a York is a score of 940.0.\n"
     ]
    }
   ],
   "source": [
    "score_from_hc, _ = hc_eq.score_for_round(\n",
    "    agb_outdoor.york,\n",
    "    38,\n",
    "    \"AGB\",\n",
    "    hcparams,\n",
    ")\n",
    "\n",
    "print(f\"A handicap of 38 on a York is a score of {score_from_hc}.\")"
   ]
  },
  {
   "cell_type": "markdown",
   "id": "77a766f1",
   "metadata": {},
   "source": [
    "Note that it is possible to obtain scores for decimal handicaps:"
   ]
  },
  {
   "cell_type": "code",
   "execution_count": 41,
   "id": "6d4de971",
   "metadata": {},
   "outputs": [
    {
     "name": "stdout",
     "output_type": "stream",
     "text": [
      "A handicap of 38.25 on a York is a score of 936.0.\n"
     ]
    }
   ],
   "source": [
    "score_from_hc, _ = hc_eq.score_for_round(\n",
    "    agb_outdoor.york,\n",
    "    38.25,\n",
    "    \"AGB\",\n",
    "    hcparams,\n",
    ")\n",
    "\n",
    "print(f\"A handicap of 38.25 on a York is a score of {score_from_hc}.\")"
   ]
  },
  {
   "cell_type": "markdown",
   "id": "ee060506",
   "metadata": {},
   "source": [
    "By default this function returns a round score as would appear in handicap tables and is physically attainable when shooting a round. The rounding mechanism (round/floor/ceil) varies by scheme. However, it is possible to return the mathematically continuous score by setting the `round_score_up` optional argument to be `False`:"
   ]
  },
  {
   "cell_type": "code",
   "execution_count": 42,
   "id": "dbde138c",
   "metadata": {},
   "outputs": [
    {
     "name": "stdout",
     "output_type": "stream",
     "text": [
      "A handicap of 38.25 on a York is a decimal score of 935.1392717845214.\n"
     ]
    }
   ],
   "source": [
    "score_from_hc, _ = hc_eq.score_for_round(\n",
    "    agb_outdoor.york,\n",
    "    38.25,\n",
    "    \"AGB\",\n",
    "    hcparams,\n",
    "    round_score_up=False,\n",
    ")\n",
    "\n",
    "print(f\"A handicap of 38.25 on a York is a decimal score of {score_from_hc}.\")"
   ]
  },
  {
   "cell_type": "markdown",
   "id": "c43a0f46",
   "metadata": {},
   "source": [
    "### Handicap from Score\n",
    "\n",
    "Mathematically is is easy to define a score for a given handicap, but often the opposite is required, where one wishes to obtain the handicap given a score.\n",
    "\n",
    "To perform this operation use the `handicap_from_score()` function which takes a score, round, handicap scheme, and set of parameters.\n",
    "By default it returns the decimal handicap corresponding to the provided score exactly.\n",
    "However, it is possible to return the integer handicap value that the score would correspond to in a handicap table by setting the `int_prec` optional argument to `True`. Remember that the rounding mechanism (round/floor/ceil) varies by scheme.\n",
    "\n",
    "\n",
    "For example, to get the 2023 Archery GB handicap given by a score of 950 on a York round:"
   ]
  },
  {
   "cell_type": "code",
   "execution_count": 43,
   "id": "47e4ee24",
   "metadata": {},
   "outputs": [
    {
     "name": "stdout",
     "output_type": "stream",
     "text": [
      "A score of 950 on a York is a continuous handicap of 37.374134403932686.\n",
      "A score of 950 on a York is a discrete handicap of 38.0.\n"
     ]
    }
   ],
   "source": [
    "hc_from_score = hc_func.handicap_from_score(\n",
    "    950,\n",
    "    agb_outdoor.york,\n",
    "    \"AGB\",\n",
    "    hcparams,\n",
    ")\n",
    "print(f\"A score of 950 on a York is a continuous handicap of {hc_from_score}.\")\n",
    "\n",
    "hc_from_score = hc_func.handicap_from_score(\n",
    "    950,\n",
    "    agb_outdoor.york,\n",
    "    \"AGB\",\n",
    "    hcparams,\n",
    "    int_prec=True,\n",
    ")\n",
    "print(f\"A score of 950 on a York is a discrete handicap of {hc_from_score}.\")"
   ]
  },
  {
   "cell_type": "markdown",
   "id": "5107fa30",
   "metadata": {},
   "source": [
    "### Handicap Tables\n",
    "\n",
    "A further functionality of the "
   ]
  },
  {
   "cell_type": "code",
   "execution_count": 44,
   "id": "bce21c56",
   "metadata": {},
   "outputs": [
    {
     "name": "stdout",
     "output_type": "stream",
     "text": [
      "      Handicap          York      Hereford        Albion       Windsor\n",
      "    0.00000000 1284.00000000 1295.00000000  972.00000000  972.00000000\n",
      "    1.00000000 1281.00000000 1294.00000000  971.00000000  972.00000000\n",
      "    2.00000000 1279.00000000 1294.00000000  971.00000000  972.00000000\n",
      "    3.00000000 1276.00000000 1293.00000000  971.00000000  972.00000000\n",
      "    4.00000000 1272.00000000 1292.00000000  970.00000000  972.00000000\n",
      "    5.00000000 1268.00000000 1290.00000000  969.00000000  972.00000000\n",
      "    6.00000000 1264.00000000 1289.00000000  969.00000000  972.00000000\n",
      "    7.00000000 1260.00000000 1287.00000000  968.00000000  972.00000000\n",
      "    8.00000000 1255.00000000 1285.00000000  967.00000000  972.00000000\n",
      "    9.00000000 1250.00000000 1283.00000000  966.00000000  972.00000000\n",
      "   10.00000000 1245.00000000 1281.00000000  964.00000000  972.00000000\n",
      "   11.00000000 1239.00000000 1278.00000000  963.00000000  971.00000000\n",
      "   12.00000000 1233.00000000 1275.00000000  961.00000000  971.00000000\n",
      "   13.00000000 1226.00000000 1271.00000000  959.00000000  971.00000000\n",
      "   14.00000000 1220.00000000 1267.00000000  957.00000000  970.00000000\n",
      "   15.00000000 1212.00000000 1263.00000000  955.00000000  969.00000000\n",
      "   16.00000000 1205.00000000 1259.00000000  952.00000000  968.00000000\n",
      "   17.00000000 1197.00000000 1254.00000000  949.00000000  967.00000000\n",
      "   18.00000000 1189.00000000 1249.00000000  946.00000000  966.00000000\n",
      "   19.00000000 1180.00000000 1244.00000000  943.00000000  965.00000000\n",
      "   20.00000000 1171.00000000 1238.00000000  939.00000000  963.00000000\n",
      "   21.00000000 1162.00000000 1232.00000000  936.00000000  961.00000000\n",
      "   22.00000000 1153.00000000 1225.00000000  932.00000000  959.00000000\n",
      "   23.00000000 1142.00000000 1218.00000000  927.00000000  957.00000000\n",
      "   24.00000000 1132.00000000 1211.00000000  922.00000000  954.00000000\n",
      "   25.00000000 1121.00000000 1204.00000000  917.00000000  952.00000000\n",
      "   26.00000000 1110.00000000 1196.00000000  912.00000000  949.00000000\n",
      "   27.00000000 1098.00000000 1187.00000000  907.00000000  945.00000000\n",
      "   28.00000000 1086.00000000 1178.00000000  901.00000000  942.00000000\n",
      "   29.00000000 1074.00000000 1169.00000000  895.00000000  938.00000000\n",
      "   30.00000000 1061.00000000 1160.00000000  888.00000000  934.00000000\n",
      "   31.00000000 1047.00000000 1150.00000000  882.00000000  929.00000000\n",
      "   32.00000000 1033.00000000 1140.00000000  875.00000000  924.00000000\n",
      "   33.00000000 1019.00000000 1129.00000000  868.00000000  919.00000000\n",
      "   34.00000000 1004.00000000 1118.00000000  860.00000000  914.00000000\n",
      "   35.00000000  989.00000000 1107.00000000  852.00000000  909.00000000\n",
      "   36.00000000  973.00000000 1095.00000000  844.00000000  903.00000000\n",
      "   37.00000000  957.00000000 1083.00000000  836.00000000  897.00000000\n",
      "   38.00000000  940.00000000 1070.00000000  827.00000000  890.00000000\n",
      "   39.00000000  923.00000000 1057.00000000  818.00000000  884.00000000\n",
      "   40.00000000  905.00000000 1044.00000000  809.00000000  877.00000000\n",
      "   41.00000000  887.00000000 1030.00000000  800.00000000  870.00000000\n",
      "   42.00000000  868.00000000 1015.00000000  790.00000000  862.00000000\n",
      "   43.00000000  849.00000000 1000.00000000  779.00000000  855.00000000\n",
      "   44.00000000  829.00000000  985.00000000  769.00000000  847.00000000\n",
      "   45.00000000  809.00000000  969.00000000  758.00000000  839.00000000\n",
      "   46.00000000  789.00000000  952.00000000  747.00000000  830.00000000\n",
      "   47.00000000  768.00000000  936.00000000  735.00000000  821.00000000\n",
      "   48.00000000  747.00000000  918.00000000  723.00000000  812.00000000\n",
      "   49.00000000  726.00000000  900.00000000  711.00000000  802.00000000\n",
      "   50.00000000  705.00000000  882.00000000  698.00000000  793.00000000\n",
      "   51.00000000  684.00000000  863.00000000  685.00000000  782.00000000\n",
      "   52.00000000  662.00000000  844.00000000  672.00000000  772.00000000\n",
      "   53.00000000  640.00000000  824.00000000  658.00000000  761.00000000\n",
      "   54.00000000  619.00000000  804.00000000  644.00000000  750.00000000\n",
      "   55.00000000  597.00000000  784.00000000  629.00000000  738.00000000\n",
      "   56.00000000  576.00000000  763.00000000  615.00000000  726.00000000\n",
      "   57.00000000  555.00000000  742.00000000  600.00000000  714.00000000\n",
      "   58.00000000  534.00000000  721.00000000  585.00000000  701.00000000\n",
      "   59.00000000  513.00000000  700.00000000  569.00000000  688.00000000\n",
      "   60.00000000  492.00000000  679.00000000  554.00000000  674.00000000\n",
      "   61.00000000  472.00000000  657.00000000  538.00000000  661.00000000\n",
      "   62.00000000  452.00000000  635.00000000  522.00000000  646.00000000\n",
      "   63.00000000  432.00000000  614.00000000  506.00000000  632.00000000\n",
      "   64.00000000  413.00000000  592.00000000  490.00000000  617.00000000\n",
      "   65.00000000  394.00000000  571.00000000  474.00000000  602.00000000\n",
      "   66.00000000  376.00000000  549.00000000  458.00000000  587.00000000\n",
      "   67.00000000  359.00000000  528.00000000  442.00000000  571.00000000\n",
      "   68.00000000  341.00000000  507.00000000  426.00000000  555.00000000\n",
      "   69.00000000  325.00000000  487.00000000  410.00000000  539.00000000\n",
      "   70.00000000  309.00000000  466.00000000  394.00000000  523.00000000\n",
      "   71.00000000  293.00000000  446.00000000  378.00000000  506.00000000\n",
      "   72.00000000  278.00000000  427.00000000  363.00000000  490.00000000\n",
      "   73.00000000  263.00000000  407.00000000  348.00000000  473.00000000\n",
      "   74.00000000  250.00000000  389.00000000  333.00000000  457.00000000\n",
      "   75.00000000  236.00000000  370.00000000  318.00000000  441.00000000\n",
      "   76.00000000  223.00000000  353.00000000  304.00000000  424.00000000\n",
      "   77.00000000  211.00000000  336.00000000  290.00000000  408.00000000\n",
      "   78.00000000  199.00000000  319.00000000  276.00000000  392.00000000\n",
      "   79.00000000  188.00000000  303.00000000  263.00000000  376.00000000\n",
      "   80.00000000  178.00000000  287.00000000  250.00000000  360.00000000\n",
      "   81.00000000  167.00000000  272.00000000  237.00000000  345.00000000\n",
      "   82.00000000  158.00000000  258.00000000  225.00000000  330.00000000\n",
      "   83.00000000  149.00000000  244.00000000  214.00000000  315.00000000\n",
      "   84.00000000  140.00000000  231.00000000  203.00000000  301.00000000\n",
      "   85.00000000  132.00000000  218.00000000  192.00000000  286.00000000\n",
      "   86.00000000  124.00000000  206.00000000  181.00000000  273.00000000\n",
      "   87.00000000  116.00000000  194.00000000  172.00000000  259.00000000\n",
      "   88.00000000  109.00000000  183.00000000  162.00000000  246.00000000\n",
      "   89.00000000  103.00000000  173.00000000  153.00000000  234.00000000\n",
      "   90.00000000   96.00000000  163.00000000  144.00000000  222.00000000\n",
      "   91.00000000   91.00000000  153.00000000  136.00000000  210.00000000\n",
      "   92.00000000   85.00000000  144.00000000  128.00000000  199.00000000\n",
      "   93.00000000   80.00000000  136.00000000  121.00000000  189.00000000\n",
      "   94.00000000   75.00000000  128.00000000  114.00000000  178.00000000\n",
      "   95.00000000   70.00000000  120.00000000  107.00000000  168.00000000\n",
      "   96.00000000   66.00000000  113.00000000  101.00000000  159.00000000\n",
      "   97.00000000   62.00000000  106.00000000   95.00000000  150.00000000\n",
      "   98.00000000   58.00000000   99.00000000   89.00000000  142.00000000\n",
      "   99.00000000   54.00000000   93.00000000   84.00000000  133.00000000\n",
      "  100.00000000   51.00000000   88.00000000   79.00000000  126.00000000\n",
      "  101.00000000   47.00000000   82.00000000   74.00000000  118.00000000\n",
      "  102.00000000   44.00000000   77.00000000   69.00000000  111.00000000\n",
      "  103.00000000   42.00000000   72.00000000   65.00000000  105.00000000\n",
      "  104.00000000   39.00000000   68.00000000   61.00000000   99.00000000\n",
      "  105.00000000   37.00000000   64.00000000   57.00000000   93.00000000\n",
      "  106.00000000   34.00000000   60.00000000   54.00000000   87.00000000\n",
      "  107.00000000   32.00000000   56.00000000   50.00000000   82.00000000\n",
      "  108.00000000   30.00000000   52.00000000   47.00000000   77.00000000\n",
      "  109.00000000   28.00000000   49.00000000   44.00000000   72.00000000\n",
      "  110.00000000   26.00000000   46.00000000   41.00000000   68.00000000\n",
      "  111.00000000   25.00000000   43.00000000   39.00000000   63.00000000\n",
      "  112.00000000   23.00000000   40.00000000   36.00000000   59.00000000\n",
      "  113.00000000   22.00000000   38.00000000   34.00000000   56.00000000\n",
      "  114.00000000   20.00000000   35.00000000   32.00000000   52.00000000\n",
      "  115.00000000   19.00000000   33.00000000   30.00000000   49.00000000\n",
      "  116.00000000   18.00000000   31.00000000   28.00000000   46.00000000\n",
      "  117.00000000   17.00000000   29.00000000   26.00000000   43.00000000\n",
      "  118.00000000   15.00000000   27.00000000   24.00000000   40.00000000\n",
      "  119.00000000   15.00000000   25.00000000   23.00000000   38.00000000\n",
      "  120.00000000   14.00000000   24.00000000   21.00000000   35.00000000\n",
      "  121.00000000   13.00000000   22.00000000   20.00000000   33.00000000\n",
      "  122.00000000   12.00000000   21.00000000   19.00000000   31.00000000\n",
      "  123.00000000   11.00000000   19.00000000   18.00000000   29.00000000\n",
      "  124.00000000   10.00000000   18.00000000   16.00000000   27.00000000\n",
      "  125.00000000   10.00000000   17.00000000   15.00000000   25.00000000\n",
      "  126.00000000    9.00000000   16.00000000   14.00000000   24.00000000\n",
      "  127.00000000    9.00000000   15.00000000   14.00000000   22.00000000\n",
      "  128.00000000    8.00000000   14.00000000   13.00000000   21.00000000\n",
      "  129.00000000    8.00000000   13.00000000   12.00000000   20.00000000\n",
      "  130.00000000    7.00000000   12.00000000   11.00000000   18.00000000\n",
      "  131.00000000    7.00000000   11.00000000   10.00000000   17.00000000\n",
      "  132.00000000    6.00000000   11.00000000   10.00000000   16.00000000\n",
      "  133.00000000    6.00000000   10.00000000    9.00000000   15.00000000\n",
      "  134.00000000    6.00000000    9.00000000    9.00000000   14.00000000\n",
      "  135.00000000    5.00000000    9.00000000    8.00000000   13.00000000\n",
      "  136.00000000    5.00000000    8.00000000    8.00000000   12.00000000\n",
      "  137.00000000    5.00000000    8.00000000    7.00000000   12.00000000\n",
      "  138.00000000    4.00000000    7.00000000    7.00000000   11.00000000\n",
      "  139.00000000    4.00000000    7.00000000    6.00000000   10.00000000\n",
      "  140.00000000    4.00000000    6.00000000    6.00000000   10.00000000\n",
      "  141.00000000    4.00000000    6.00000000    6.00000000    9.00000000\n",
      "  142.00000000    3.00000000    6.00000000    5.00000000    8.00000000\n",
      "  143.00000000    3.00000000    5.00000000    5.00000000    8.00000000\n",
      "  144.00000000    3.00000000    5.00000000    5.00000000    7.00000000\n",
      "  145.00000000    3.00000000    5.00000000    4.00000000    7.00000000\n",
      "  146.00000000    3.00000000    4.00000000    4.00000000    6.00000000\n",
      "  147.00000000    3.00000000    4.00000000    4.00000000    6.00000000\n",
      "  148.00000000    2.00000000    4.00000000    4.00000000    6.00000000\n",
      "  149.00000000    2.00000000    4.00000000    3.00000000    5.00000000\n",
      "  150.00000000    2.00000000    3.00000000    3.00000000    5.00000000\n"
     ]
    }
   ],
   "source": [
    "import numpy as np\n",
    "\n",
    "handicaps = np.arange(0.0, 151.0, 1.0)\n",
    "rounds = [\n",
    "    agb_outdoor.york,\n",
    "    agb_outdoor.hereford,\n",
    "    agb_outdoor.albion,\n",
    "    agb_outdoor.windsor,\n",
    "]\n",
    "# The following allows printing of handicap tables for an entire group of rounds:\n",
    "# rounds = list(load_rounds.AGB_outdoor_imperial.values())\n",
    "\n",
    "hc_func.print_handicap_table(\n",
    "    handicaps,\n",
    "    \"AGB\",\n",
    "    rounds,\n",
    "    hcparams,\n",
    ")"
   ]
  },
  {
   "cell_type": "markdown",
   "id": "59749871",
   "metadata": {},
   "source": [
    "The following optional arguments can be passed to `print_handicap_table()`:\n",
    "- `round_scores_up` - round scores to discrete values as appropriate for the scheme\n",
    "- `clean_gaps` - if `True` duplicate scores will be displayed for the first occurrence only\n",
    "- `filename` - if provided as a string the table will be saved to file\n",
    "- `int_prec` - if `True` then values will be printed as integers rather than decimals\n",
    "\n",
    "It is also possible to pass an array of non-integer handicaps.\n",
    "\n",
    "The effect of these variables can be examined by changing their values in the following:"
   ]
  },
  {
   "cell_type": "code",
   "execution_count": 45,
   "id": "03084231",
   "metadata": {},
   "outputs": [
    {
     "name": "stdout",
     "output_type": "stream",
     "text": [
      "      Handicap          York      Hereford        Albion       Windsor\n",
      "    0.00000000 1283.43539112 1294.41128340  971.20310600  971.99244624\n",
      "    0.50000000 1282.23101439 1294.14732559  971.07019646  971.98968696\n",
      "    1.00000000 1280.95163666 1293.85033513  970.92047684  971.98606417\n",
      "    1.50000000 1279.59589344 1293.51777056  970.75259933  971.98135501\n",
      "    2.00000000 1278.16257099 1293.14707366  970.56519185  971.97529244\n",
      "    2.50000000 1276.65060131 1292.73568446  970.35686337  971.96755961\n",
      "    3.00000000 1275.05905507 1292.28105576  970.12620874  971.95778415\n",
      "    3.50000000 1273.38713286 1291.78066714  969.87181326  971.94553236\n",
      "    4.00000000 1271.63415490 1291.23203803  969.59225663  971.93030358\n",
      "    4.50000000 1269.79954959 1290.63273977  969.28611639  971.91152478\n",
      "    5.00000000 1267.88284129 1289.98040647  968.95197074  971.88854538\n",
      "    5.50000000 1265.88363751 1289.27274454  968.58840071  971.86063266\n",
      "    6.00000000 1263.80161600 1288.50754076  968.19399174  971.82696765\n",
      "    6.50000000 1261.63651198 1287.68266884  967.76733456  971.78664174\n",
      "    7.00000000 1259.38810585 1286.79609443  967.30702550  971.73865408\n",
      "    7.50000000 1257.05621161 1285.84587854  966.81166634  971.68190988\n",
      "    8.00000000 1254.64066616 1284.83017941  966.27986356  971.61521966\n",
      "    8.50000000 1252.14131966 1283.74725285  965.71022729  971.53729945\n",
      "    9.00000000 1249.55802711 1282.59545119  965.10136999  971.44677220\n",
      "    9.50000000 1246.89064104 1281.37322091  964.45190492  971.34217014\n",
      "   10.00000000 1244.13900540 1280.07909904  963.76044465  971.22193825\n",
      "   10.50000000 1241.30295059 1278.71170870  963.02559962  971.08443886\n",
      "   11.00000000 1238.38228948 1277.26975371  962.24597707  970.92795713\n",
      "   11.50000000 1235.37681438 1275.75201276  961.42018024  970.75070762\n",
      "   12.00000000 1232.28629476 1274.15733318  960.54680823  970.55084157\n",
      "   12.50000000 1229.11047561 1272.48462469  959.62445654  970.32645508\n",
      "   13.00000000 1225.84907633 1270.73285332  958.65171831  970.07559784\n",
      "   13.50000000 1222.50179002 1268.90103573  957.62718661  969.79628238\n",
      "   14.00000000 1219.06828300 1266.98823415  956.54945752  969.48649372\n",
      "   14.50000000 1215.54819461 1264.99355219  955.41713429  969.14419924\n",
      "   15.00000000 1211.94113709 1262.91613155  954.22883245  968.76735867\n",
      "   15.50000000 1208.24669560 1260.75514978  952.98318580  968.35393398\n",
      "   16.00000000 1204.46442825 1258.50981916  951.67885329  967.90189915\n",
      "   16.50000000 1200.59386620 1256.17938659  950.31452658  967.40924961\n",
      "   17.00000000 1196.63451377 1253.76313446  948.88893803  966.87401125\n",
      "   17.50000000 1192.58584855 1251.26038241  947.40086917  966.29424899\n",
      "   18.00000000 1188.44732145 1248.67048959  945.84915909  965.66807468\n",
      "   18.50000000 1184.21835675 1245.99285749  944.23271280  964.99365440\n",
      "   19.00000000 1179.89835201 1243.22693276  942.55050905  964.26921500\n",
      "   19.50000000 1175.48667789 1240.37220999  940.80160756  963.49305000\n",
      "   20.00000000 1170.98267777 1237.42823404  938.98515525  962.66352457\n",
      "   20.50000000 1166.38566715 1234.39460163  937.10039133  961.77907995\n",
      "   21.00000000 1161.69493289 1231.27096212  935.14665107  960.83823697\n",
      "   21.50000000 1156.90973211 1228.05701704  933.12336797  959.83959892\n",
      "   22.00000000 1152.02929092 1224.75251846  931.03007442  958.78185371\n",
      "   22.50000000 1147.05280288 1221.35726594  928.86640055  957.66377540\n",
      "   23.00000000 1141.97942738 1217.87110221  926.63207151  956.48422509\n",
      "   23.50000000 1136.80828789 1214.29390740  924.32690296  955.24215129\n",
      "   24.00000000 1131.53847032 1210.62559214  921.95079509  953.93658975\n",
      "   24.50000000 1126.16902149 1206.86608958  919.50372510  952.56666287\n",
      "   25.00000000 1120.69894802 1203.01534649  916.98573850  951.13157859\n",
      "   25.50000000 1115.12721563 1199.07331378  914.39693926  949.63062907\n",
      "   26.00000000 1109.45274917 1195.03993663  911.73747909  948.06318881\n",
      "   26.50000000 1103.67443339 1190.91514439  909.00754614  946.42871264\n",
      "   27.00000000 1097.79111470 1186.69884076  906.20735332  944.72673326\n",
      "   27.50000000 1091.80160403 1182.39089414  903.33712637  942.95685855\n",
      "   28.00000000 1085.70468077 1177.99112874  900.39709216  941.11876861\n",
      "   28.50000000 1079.49909800 1173.49931627  897.38746721  939.21221244\n",
      "   29.00000000 1073.18358894 1168.91516865  894.30844667  937.23700435\n",
      "   29.50000000 1066.75687465 1164.23833168  891.16019413  935.19302006\n",
      "   30.00000000 1060.21767295 1159.46837981  887.94283213  933.08019246\n",
      "   30.50000000 1053.56470844 1154.60481212  884.65643373  930.89850701\n",
      "   31.00000000 1046.79672359 1149.64704941  881.30101519  928.64799679\n",
      "   31.50000000 1039.91249077 1144.59443249  877.87652975  926.32873720\n",
      "   32.00000000 1032.91082511 1139.44622169  874.38286272  923.94084025\n",
      "   32.50000000 1025.79059791 1134.20159745  870.81982786  921.48444854\n",
      "   33.00000000 1018.55075074 1128.85966211  867.18716503  918.95972878\n",
      "   33.50000000 1011.19030976 1123.41944266  863.48453912  916.36686516\n",
      "   34.00000000 1003.70840038 1117.87989466  859.71154034  913.70605226\n",
      "   34.50000000  996.10426188 1112.23990710  855.86768563  910.97748786\n",
      "   35.00000000  988.37726209 1106.49830817  851.95242137  908.18136552\n",
      "   35.50000000  980.52691175 1100.65387209  847.96512700  905.31786708\n",
      "   36.00000000  972.55287861 1094.70532665  843.90511984  902.38715520\n",
      "   36.50000000  964.45500106 1088.65136167  839.77166063  899.38936598\n",
      "   37.00000000  956.23330110 1082.49063823  835.56395996  896.32460174\n",
      "   37.50000000  947.88799670 1076.22179857  831.28118529  893.19292422\n",
      "   38.00000000  939.41951330 1069.84347667  826.92246850  889.99434806\n",
      "   38.50000000  930.82849440 1063.35430941  822.48691395  886.72883494\n",
      "   39.00000000  922.11581108 1056.75294822  817.97360669  883.39628828\n",
      "   39.50000000  913.28257052 1050.03807123  813.38162098  879.99654866\n",
      "   40.00000000  904.33012324 1043.20839568  808.71002886  876.52939008\n",
      "   40.50000000  895.26006908 1036.26269067  803.95790869  872.99451707\n",
      "   41.00000000  886.07426191 1029.19979012  799.12435372  869.39156268\n",
      "   41.50000000  876.77481293 1022.01860573  794.20848042  865.72008752\n",
      "   42.00000000  867.36409257 1014.71814007  789.20943672  861.97957961\n",
      "   42.50000000  857.84473094 1007.29749954  784.12641004  858.16945533\n",
      "   43.00000000  848.21961692  999.75590718  778.95863497  854.28906110\n",
      "   43.50000000  838.49189572  992.09271526  773.70540089  850.33767613\n",
      "   44.00000000  828.66496511  984.30741751  768.36605910  846.31451576\n",
      "   44.50000000  818.74247025  976.39966093  762.94002983  842.21873567\n",
      "   45.00000000  808.72829716  968.36925712  757.42680887  838.04943664\n",
      "   45.50000000  798.62656501  960.21619300  751.82597395  833.80566990\n",
      "   46.00000000  788.44161709  951.94064087  746.13719074  829.48644295\n",
      "   46.50000000  778.17801080  943.54296768  740.36021864  825.09072569\n",
      "   47.00000000  767.84050643  935.02374353  734.49491614  820.61745697\n",
      "   47.50000000  757.43405519  926.38374927  728.54124591  816.06555133\n",
      "   48.00000000  746.96378623  917.62398313  722.49927960  811.43390594\n",
      "   48.50000000  736.43499304  908.74566637  716.36920221  806.72140774\n",
      "   49.00000000  725.85311910  899.75024792  710.15131620  801.92694077\n",
      "   49.50000000  715.22374312  890.63940798  703.84604525  797.04939353\n",
      "   50.00000000  704.55256375  881.41506049  697.45393773  792.08766664\n",
      "   50.50000000  693.84538405  872.07935460  690.97566980  787.04068056\n",
      "Writing handicap table to file...Done.\n"
     ]
    }
   ],
   "source": [
    "handicaps = np.arange(0.0, 51.0, 0.5)\n",
    "\n",
    "\n",
    "hc_func.print_handicap_table(\n",
    "    handicaps,\n",
    "    \"AGB\",\n",
    "    rounds,\n",
    "    hcparams,\n",
    "    round_scores_up=False,\n",
    "    clean_gaps=False,\n",
    "    filename=\"test_handicap_table.txt\",\n",
    "    int_prec=False,\n",
    ")"
   ]
  },
  {
   "cell_type": "markdown",
   "id": "d63355b1",
   "metadata": {},
   "source": [
    "## 3. Classifications\n",
    "\n",
    "As well as handicap functionalities _archeryutils_ fontains functionalities for calculating Archery GB classifications.\n",
    "These are accessed by importing the `classifications` module:"
   ]
  },
  {
   "cell_type": "code",
   "execution_count": 46,
   "id": "3492598b",
   "metadata": {},
   "outputs": [],
   "source": [
    "from archeryutils import classifications as class_func"
   ]
  },
  {
   "cell_type": "markdown",
   "id": "86494fa6",
   "metadata": {},
   "source": [
    "### Classification from score\n",
    "\n",
    "To get a classification that results from a score use the `calculate_X_classification()` function, where `X` corresponds to the classification scheme being used (`AGB_outdoor`, `AGB_indoor`, `AGB_field`).\n",
    "\n",
    "This takes following arguments:\n",
    "- a string of a round alias (see [Default Rounds](#Default-Rounds)).\n",
    "- a score\n",
    "- a string of bowstyle (`\"compound\"`, `\"recurve\"`, `\"longbow\"`, `\"barebow\"`, `\"traditional\"`, `\"flatbow\"`)\n",
    "- a string of gender under Archery GB (`\"male\"` or `\"female\"`)\n",
    "- an Archery GB age group (`\"50+\"`, `\"adult\"`, `\"under 21\"`, `\"under 18\"`, etc.)\n",
    "\n",
    "and returns a string corresponding to the classification it obtains.\n",
    "\n",
    "These can be investigated in the following code snippet which uses a number of examples:"
   ]
  },
  {
   "cell_type": "code",
   "execution_count": 47,
   "id": "24eee19c",
   "metadata": {},
   "outputs": [
    {
     "name": "stdout",
     "output_type": "stream",
     "text": [
      "A score of 965 on a Hereford is class B2 for a 50+ male recurve.\n"
     ]
    }
   ],
   "source": [
    "# AGB Outdoor\n",
    "class_from_score = class_func.calculate_AGB_outdoor_classification(\n",
    "    \"hereford\",\n",
    "    965,\n",
    "    \"recurve\",\n",
    "    \"male\",\n",
    "    \"50+\",\n",
    ")\n",
    "print(\n",
    "    f\"A score of 965 on a Hereford is class {class_from_score} for a 50+ male recurve.\"\n",
    ")"
   ]
  },
  {
   "cell_type": "code",
   "execution_count": 48,
   "id": "c3b7d25c",
   "metadata": {},
   "outputs": [
    {
     "name": "stdout",
     "output_type": "stream",
     "text": [
      "A score of 562 on a WA 18 is class C for adult female compound.\n"
     ]
    }
   ],
   "source": [
    "# AGB Indoor\n",
    "class_from_score = class_func.calculate_AGB_indoor_classification(\n",
    "    \"wa18\",\n",
    "    562,\n",
    "    \"compound\",\n",
    "    \"female\",\n",
    "    \"adult\",\n",
    ")\n",
    "print(\n",
    "    f\"A score of 562 on a WA 18 is class {class_from_score} for adult female compound.\"\n",
    ")"
   ]
  },
  {
   "cell_type": "code",
   "execution_count": 49,
   "id": "d221a62c",
   "metadata": {},
   "outputs": [
    {
     "name": "stdout",
     "output_type": "stream",
     "text": [
      "A score of 168 on a WA Unmarked 24 is class 1st Class for an under 18 male traditional.\n"
     ]
    }
   ],
   "source": [
    "# AGB Field\n",
    "class_from_score = class_func.calculate_AGB_field_classification(\n",
    "    \"wa_field_24_blue_unmarked\",\n",
    "    168,\n",
    "    \"traditional\",\n",
    "    \"male\",\n",
    "    \"under 18\",\n",
    ")\n",
    "print(\n",
    "    f\"A score of 168 on a WA Unmarked 24 is class {class_from_score} for an under 18 male traditional.\"\n",
    ")"
   ]
  },
  {
   "cell_type": "markdown",
   "id": "f6c9f122",
   "metadata": {},
   "source": [
    "### Classification scores\n",
    "\n",
    "As well as generating a classification from a score there is also the inverse functionality of obtaining scores required for classifications. This can be done using the `X_classification_scores()` functions.\n",
    "\n",
    "These take a round alias and categories as strings above, and return a list of scores required for each classification in descending order.\n",
    "\n",
    "Where a classification is not available from a particular round a fill value of -9999 is returned."
   ]
  },
  {
   "cell_type": "code",
   "execution_count": 50,
   "id": "da99fc4b",
   "metadata": {},
   "outputs": [
    {
     "name": "stdout",
     "output_type": "stream",
     "text": [
      "[-9999, -9999, -9999, -9999, 985, 863, 721, 571, 427]\n"
     ]
    }
   ],
   "source": [
    "class_scores = class_func.AGB_outdoor_classification_scores(\n",
    "    \"hereford\",\n",
    "    \"recurve\",\n",
    "    \"male\",\n",
    "    \"adult\",\n",
    ")\n",
    "print(class_scores)"
   ]
  },
  {
   "cell_type": "code",
   "execution_count": 51,
   "id": "9e1bad8e",
   "metadata": {},
   "outputs": [
    {
     "name": "stdout",
     "output_type": "stream",
     "text": [
      "[594, 586, 562, 518, 453, 349, 207, 160]\n"
     ]
    }
   ],
   "source": [
    "class_scores = class_func.AGB_indoor_classification_scores(\n",
    "    \"portsmouth\",\n",
    "    \"compound\",\n",
    "    \"female\",\n",
    "    \"adult\",\n",
    ")\n",
    "print(class_scores)"
   ]
  },
  {
   "cell_type": "code",
   "execution_count": 52,
   "id": "5220a9b0",
   "metadata": {},
   "outputs": [
    {
     "name": "stdout",
     "output_type": "stream",
     "text": [
      "[158, 147, 134, 121, 107, 95]\n"
     ]
    }
   ],
   "source": [
    "class_scores = class_func.AGB_field_classification_scores(\n",
    "    \"wa_field_24_blue_marked\",\n",
    "    \"flatbow\",\n",
    "    \"female\",\n",
    "    \"under 18\",\n",
    ")\n",
    "print(class_scores)"
   ]
  }
 ],
 "metadata": {
  "kernelspec": {
   "display_name": "Python 3 (ipykernel)",
   "language": "python",
   "name": "python3"
  },
  "language_info": {
   "codemirror_mode": {
    "name": "ipython",
    "version": 3
   },
   "file_extension": ".py",
   "mimetype": "text/x-python",
   "name": "python",
   "nbconvert_exporter": "python",
   "pygments_lexer": "ipython3",
   "version": "3.10.10"
  }
 },
 "nbformat": 4,
 "nbformat_minor": 5
}
